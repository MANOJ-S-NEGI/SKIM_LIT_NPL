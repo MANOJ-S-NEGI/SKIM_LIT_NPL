{
  "nbformat": 4,
  "nbformat_minor": 0,
  "metadata": {
    "colab": {
      "provenance": [],
      "authorship_tag": "ABX9TyOxH+5dlfwMfqQqGo/wXQvW",
      "include_colab_link": true
    },
    "kernelspec": {
      "name": "python3",
      "display_name": "Python 3"
    },
    "language_info": {
      "name": "python"
    }
  },
  "cells": [
    {
      "cell_type": "markdown",
      "metadata": {
        "id": "view-in-github",
        "colab_type": "text"
      },
      "source": [
        "<a href=\"https://colab.research.google.com/github/MANOJ-S-NEGI/SKIM_LIT_NPL/blob/main/skim_literature_nlp.ipynb\" target=\"_parent\"><img src=\"https://colab.research.google.com/assets/colab-badge.svg\" alt=\"Open In Colab\"/></a>"
      ]
    },
    {
      "cell_type": "markdown",
      "source": [
        "The goal of the dataset was to explore the ability for NLP models to classify sentences which appear in sequential order.\n",
        "\n",
        "DATA_SOURCE: https://github.com/Franck-Dernoncourt/pubmed-rct.git"
      ],
      "metadata": {
        "id": "iOD_ils7gpIE"
      }
    },
    {
      "cell_type": "markdown",
      "source": [
        "## DATA PROCESSING"
      ],
      "metadata": {
        "id": "imymFuW2mFnX"
      }
    },
    {
      "cell_type": "code",
      "execution_count": null,
      "metadata": {
        "id": "NGeCQhh_fptj"
      },
      "outputs": [],
      "source": [
        "# defining the function to read the lines of a docuents:\n",
        "\n",
        "def get_lines(filenames):\n",
        "    with open(filenames, \"r\") as f:\n",
        "        return f.readlines()\n"
      ]
    },
    {
      "cell_type": "code",
      "source": [
        "# setting path and readind the txt files:\n",
        "train_path = \"/content/train.txt\"\n",
        "test_path = \"/content/test.txt\"\n",
        "dev_path = \"/content/dev.txt\"\n",
        "train_lines = get_lines(train_path)\n",
        "train_lines[:20]"
      ],
      "metadata": {
        "colab": {
          "base_uri": "https://localhost:8080/"
        },
        "id": "FhKfZ-nhmvUc",
        "outputId": "99ff1632-51b1-4030-eeae-7eb0cccf3855"
      },
      "execution_count": null,
      "outputs": [
        {
          "output_type": "execute_result",
          "data": {
            "text/plain": [
              "['###24491034\\n',\n",
              " 'BACKGROUND\\tThe emergence of HIV as a chronic condition means that people living with HIV are required to take more responsibility for the self-management of their condition , including making physical , emotional and social adjustments .\\n',\n",
              " 'BACKGROUND\\tThis paper describes the design and evaluation of Positive Outlook , an online program aiming to enhance the self-management skills of gay men living with HIV .\\n',\n",
              " 'METHODS\\tThis study is designed as a randomised controlled trial in which men living with HIV in Australia will be assigned to either an intervention group or usual care control group .\\n',\n",
              " \"METHODS\\tThe intervention group will participate in the online group program ` Positive Outlook ' .\\n\",\n",
              " 'METHODS\\tThe program is based on self-efficacy theory and uses a self-management approach to enhance skills , confidence and abilities to manage the psychosocial issues associated with HIV in daily life .\\n',\n",
              " 'METHODS\\tParticipants will access the program for a minimum of @ minutes per week over seven weeks .\\n',\n",
              " 'METHODS\\tPrimary outcomes are domain specific self-efficacy , HIV related quality of life , and outcomes of health education .\\n',\n",
              " 'METHODS\\tSecondary outcomes include : depression , anxiety and stress ; general health and quality of life ; adjustment to HIV ; and social support .\\n',\n",
              " 'METHODS\\tData collection will take place at baseline , completion of the intervention ( or eight weeks post randomisation ) and at @ week follow-up .\\n',\n",
              " 'CONCLUSIONS\\tResults of the Positive Outlook study will provide information regarding the effectiveness of online group programs improving health related outcomes for men living with HIV .\\n',\n",
              " 'BACKGROUND\\tACTRN@ .\\n',\n",
              " '\\n',\n",
              " '###20497432\\n',\n",
              " 'BACKGROUND\\tThe aim of this study was to evaluate the efficacy , safety and complications of orbital steroid injection versus oral steroid therapy in the management of thyroid-related ophthalmopathy .\\n',\n",
              " 'METHODS\\tA total of @ patients suffering from thyroid ophthalmopathy were included in this study .\\n',\n",
              " 'METHODS\\tPatients were randomized into two groups : group I included @ patients treated with oral prednisolone and group II included @ patients treated with peribulbar triamcinolone orbital injection .\\n',\n",
              " 'METHODS\\tOnly @ patients in both groups ( @ female and @ male ) completed the study .\\n',\n",
              " 'RESULTS\\tBoth groups showed improvement in symptoms and in clinical evidence of inflammation with improvement of eye movement and proptosis in most cases .\\n',\n",
              " 'RESULTS\\tMean exophthalmometry value before treatment was @ @ mm that decreased to @ @ mm in group I , compared with @ @ mm that decreased to @ @ mm in group II .\\n']"
            ]
          },
          "metadata": {},
          "execution_count": 3
        }
      ]
    },
    {
      "cell_type": "code",
      "source": [
        "# checking lines  better visuals:\n",
        "for i in train_lines[:5]:\n",
        "    print(i)\n"
      ],
      "metadata": {
        "colab": {
          "base_uri": "https://localhost:8080/"
        },
        "id": "qqJvh9QXnOXe",
        "outputId": "3c8fd6e8-dc1d-4814-d5f1-fff9d3571904"
      },
      "execution_count": null,
      "outputs": [
        {
          "output_type": "stream",
          "name": "stdout",
          "text": [
            "###24491034\n",
            "\n",
            "BACKGROUND\tThe emergence of HIV as a chronic condition means that people living with HIV are required to take more responsibility for the self-management of their condition , including making physical , emotional and social adjustments .\n",
            "\n",
            "BACKGROUND\tThis paper describes the design and evaluation of Positive Outlook , an online program aiming to enhance the self-management skills of gay men living with HIV .\n",
            "\n",
            "METHODS\tThis study is designed as a randomised controlled trial in which men living with HIV in Australia will be assigned to either an intervention group or usual care control group .\n",
            "\n",
            "METHODS\tThe intervention group will participate in the online group program ` Positive Outlook ' .\n",
            "\n"
          ]
        }
      ]
    },
    {
      "cell_type": "code",
      "source": [
        "class PreprocessTextWithLineNumbers:\n",
        "    def __init__(self, path):\n",
        "        self.path = path\n",
        "\n",
        "    def path_fetch_and_separation(self):\n",
        "        try:\n",
        "            abstract_data = []\n",
        "            with open(self.path, 'r') as file:\n",
        "                for line in file:\n",
        "                    if not line.startswith(\"###\"):\n",
        "                        abstract_data.append(line.strip())\n",
        "            return abstract_data\n",
        "\n",
        "        except Exception as e:\n",
        "            print(f\"An unexpected error occurred: {e}\")\n",
        "\n",
        "    def process_data_into_dict(self):\n",
        "        try:\n",
        "            abstract_sample = []\n",
        "            for abstract_line_number, abstract_line in enumerate(self.path_fetch_and_separation()):\n",
        "                line_data = {}\n",
        "                target_text_split = abstract_line.split(\"\\t\")\n",
        "\n",
        "                if len(target_text_split) > 1:\n",
        "                    line_data[\"target\"] = target_text_split[0]\n",
        "                    line_data[\"text\"] = target_text_split[1].lower()\n",
        "                    line_data[\"line_number\"] = abstract_line_number\n",
        "                    #line_data[\"total_lines\"] = len(abstract_line_split) - 1\n",
        "                    abstract_sample.append(line_data)\n",
        "\n",
        "            return abstract_sample\n",
        "\n",
        "        except Exception as e:\n",
        "            print(f\"An unexpected error occurred: {e}\")\n",
        "\n",
        "def processed_file(path):\n",
        "    preprocess_data = PreprocessTextWithLineNumbers(path)\n",
        "    return preprocess_data.process_data_into_dict()\n"
      ],
      "metadata": {
        "id": "Uzplzxt3MULL"
      },
      "execution_count": null,
      "outputs": []
    },
    {
      "cell_type": "code",
      "source": [
        "train_data = processed_file(train_path)\n",
        "test_data = processed_file(test_path)\n",
        "dev_data = processed_file(dev_path)"
      ],
      "metadata": {
        "id": "PcShrgQvN-Om"
      },
      "execution_count": null,
      "outputs": []
    },
    {
      "cell_type": "code",
      "source": [
        "# putting train_data into dataframe:\n",
        "import pandas as pd\n",
        "train_data = pd.DataFrame(train_data)\n",
        "test_data = pd.DataFrame(test_data)\n",
        "val_data = pd.DataFrame(dev_data)\n",
        "train_data.sample(10)"
      ],
      "metadata": {
        "colab": {
          "base_uri": "https://localhost:8080/",
          "height": 363
        },
        "id": "6EHcP7HiQ1Uk",
        "outputId": "52558c57-a5dc-4ee5-a280-e936bb45f0d4"
      },
      "execution_count": null,
      "outputs": [
        {
          "output_type": "execute_result",
          "data": {
            "text/plain": [
              "           target                                               text\n",
              "4674  CONCLUSIONS  low-dose mitomycin c may be useful in standard...\n",
              "3145      METHODS  sixty participants ( @ hands ) with oa of the ...\n",
              "2201      METHODS  clinical and radiograph evaluation were perfor...\n",
              "196       RESULTS  no difference was found between the groups reg...\n",
              "584   CONCLUSIONS  no significant long-term advantage in psychoso...\n",
              "3328      RESULTS  all coaches except @ ( @ % ) intended to conti...\n",
              "3086  CONCLUSIONS  ct performed in the same weekly frequency and ...\n",
              "2056   BACKGROUND  sustained hypotension after an acute dynamic e...\n",
              "2852      METHODS  the secondary end point was the concordance ra...\n",
              "913   CONCLUSIONS  xyk has significant therapeutic effect in trea..."
            ],
            "text/html": [
              "\n",
              "  <div id=\"df-cf87bf2e-2c7a-483f-947f-16a8560b267a\" class=\"colab-df-container\">\n",
              "    <div>\n",
              "<style scoped>\n",
              "    .dataframe tbody tr th:only-of-type {\n",
              "        vertical-align: middle;\n",
              "    }\n",
              "\n",
              "    .dataframe tbody tr th {\n",
              "        vertical-align: top;\n",
              "    }\n",
              "\n",
              "    .dataframe thead th {\n",
              "        text-align: right;\n",
              "    }\n",
              "</style>\n",
              "<table border=\"1\" class=\"dataframe\">\n",
              "  <thead>\n",
              "    <tr style=\"text-align: right;\">\n",
              "      <th></th>\n",
              "      <th>target</th>\n",
              "      <th>text</th>\n",
              "    </tr>\n",
              "  </thead>\n",
              "  <tbody>\n",
              "    <tr>\n",
              "      <th>4674</th>\n",
              "      <td>CONCLUSIONS</td>\n",
              "      <td>low-dose mitomycin c may be useful in standard...</td>\n",
              "    </tr>\n",
              "    <tr>\n",
              "      <th>3145</th>\n",
              "      <td>METHODS</td>\n",
              "      <td>sixty participants ( @ hands ) with oa of the ...</td>\n",
              "    </tr>\n",
              "    <tr>\n",
              "      <th>2201</th>\n",
              "      <td>METHODS</td>\n",
              "      <td>clinical and radiograph evaluation were perfor...</td>\n",
              "    </tr>\n",
              "    <tr>\n",
              "      <th>196</th>\n",
              "      <td>RESULTS</td>\n",
              "      <td>no difference was found between the groups reg...</td>\n",
              "    </tr>\n",
              "    <tr>\n",
              "      <th>584</th>\n",
              "      <td>CONCLUSIONS</td>\n",
              "      <td>no significant long-term advantage in psychoso...</td>\n",
              "    </tr>\n",
              "    <tr>\n",
              "      <th>3328</th>\n",
              "      <td>RESULTS</td>\n",
              "      <td>all coaches except @ ( @ % ) intended to conti...</td>\n",
              "    </tr>\n",
              "    <tr>\n",
              "      <th>3086</th>\n",
              "      <td>CONCLUSIONS</td>\n",
              "      <td>ct performed in the same weekly frequency and ...</td>\n",
              "    </tr>\n",
              "    <tr>\n",
              "      <th>2056</th>\n",
              "      <td>BACKGROUND</td>\n",
              "      <td>sustained hypotension after an acute dynamic e...</td>\n",
              "    </tr>\n",
              "    <tr>\n",
              "      <th>2852</th>\n",
              "      <td>METHODS</td>\n",
              "      <td>the secondary end point was the concordance ra...</td>\n",
              "    </tr>\n",
              "    <tr>\n",
              "      <th>913</th>\n",
              "      <td>CONCLUSIONS</td>\n",
              "      <td>xyk has significant therapeutic effect in trea...</td>\n",
              "    </tr>\n",
              "  </tbody>\n",
              "</table>\n",
              "</div>\n",
              "    <div class=\"colab-df-buttons\">\n",
              "\n",
              "  <div class=\"colab-df-container\">\n",
              "    <button class=\"colab-df-convert\" onclick=\"convertToInteractive('df-cf87bf2e-2c7a-483f-947f-16a8560b267a')\"\n",
              "            title=\"Convert this dataframe to an interactive table.\"\n",
              "            style=\"display:none;\">\n",
              "\n",
              "  <svg xmlns=\"http://www.w3.org/2000/svg\" height=\"24px\" viewBox=\"0 -960 960 960\">\n",
              "    <path d=\"M120-120v-720h720v720H120Zm60-500h600v-160H180v160Zm220 220h160v-160H400v160Zm0 220h160v-160H400v160ZM180-400h160v-160H180v160Zm440 0h160v-160H620v160ZM180-180h160v-160H180v160Zm440 0h160v-160H620v160Z\"/>\n",
              "  </svg>\n",
              "    </button>\n",
              "\n",
              "  <style>\n",
              "    .colab-df-container {\n",
              "      display:flex;\n",
              "      gap: 12px;\n",
              "    }\n",
              "\n",
              "    .colab-df-convert {\n",
              "      background-color: #E8F0FE;\n",
              "      border: none;\n",
              "      border-radius: 50%;\n",
              "      cursor: pointer;\n",
              "      display: none;\n",
              "      fill: #1967D2;\n",
              "      height: 32px;\n",
              "      padding: 0 0 0 0;\n",
              "      width: 32px;\n",
              "    }\n",
              "\n",
              "    .colab-df-convert:hover {\n",
              "      background-color: #E2EBFA;\n",
              "      box-shadow: 0px 1px 2px rgba(60, 64, 67, 0.3), 0px 1px 3px 1px rgba(60, 64, 67, 0.15);\n",
              "      fill: #174EA6;\n",
              "    }\n",
              "\n",
              "    .colab-df-buttons div {\n",
              "      margin-bottom: 4px;\n",
              "    }\n",
              "\n",
              "    [theme=dark] .colab-df-convert {\n",
              "      background-color: #3B4455;\n",
              "      fill: #D2E3FC;\n",
              "    }\n",
              "\n",
              "    [theme=dark] .colab-df-convert:hover {\n",
              "      background-color: #434B5C;\n",
              "      box-shadow: 0px 1px 3px 1px rgba(0, 0, 0, 0.15);\n",
              "      filter: drop-shadow(0px 1px 2px rgba(0, 0, 0, 0.3));\n",
              "      fill: #FFFFFF;\n",
              "    }\n",
              "  </style>\n",
              "\n",
              "    <script>\n",
              "      const buttonEl =\n",
              "        document.querySelector('#df-cf87bf2e-2c7a-483f-947f-16a8560b267a button.colab-df-convert');\n",
              "      buttonEl.style.display =\n",
              "        google.colab.kernel.accessAllowed ? 'block' : 'none';\n",
              "\n",
              "      async function convertToInteractive(key) {\n",
              "        const element = document.querySelector('#df-cf87bf2e-2c7a-483f-947f-16a8560b267a');\n",
              "        const dataTable =\n",
              "          await google.colab.kernel.invokeFunction('convertToInteractive',\n",
              "                                                    [key], {});\n",
              "        if (!dataTable) return;\n",
              "\n",
              "        const docLinkHtml = 'Like what you see? Visit the ' +\n",
              "          '<a target=\"_blank\" href=https://colab.research.google.com/notebooks/data_table.ipynb>data table notebook</a>'\n",
              "          + ' to learn more about interactive tables.';\n",
              "        element.innerHTML = '';\n",
              "        dataTable['output_type'] = 'display_data';\n",
              "        await google.colab.output.renderOutput(dataTable, element);\n",
              "        const docLink = document.createElement('div');\n",
              "        docLink.innerHTML = docLinkHtml;\n",
              "        element.appendChild(docLink);\n",
              "      }\n",
              "    </script>\n",
              "  </div>\n",
              "\n",
              "\n",
              "<div id=\"df-d0536e26-b55d-4b24-be12-3638535f2e36\">\n",
              "  <button class=\"colab-df-quickchart\" onclick=\"quickchart('df-d0536e26-b55d-4b24-be12-3638535f2e36')\"\n",
              "            title=\"Suggest charts.\"\n",
              "            style=\"display:none;\">\n",
              "\n",
              "<svg xmlns=\"http://www.w3.org/2000/svg\" height=\"24px\"viewBox=\"0 0 24 24\"\n",
              "     width=\"24px\">\n",
              "    <g>\n",
              "        <path d=\"M19 3H5c-1.1 0-2 .9-2 2v14c0 1.1.9 2 2 2h14c1.1 0 2-.9 2-2V5c0-1.1-.9-2-2-2zM9 17H7v-7h2v7zm4 0h-2V7h2v10zm4 0h-2v-4h2v4z\"/>\n",
              "    </g>\n",
              "</svg>\n",
              "  </button>\n",
              "\n",
              "<style>\n",
              "  .colab-df-quickchart {\n",
              "      --bg-color: #E8F0FE;\n",
              "      --fill-color: #1967D2;\n",
              "      --hover-bg-color: #E2EBFA;\n",
              "      --hover-fill-color: #174EA6;\n",
              "      --disabled-fill-color: #AAA;\n",
              "      --disabled-bg-color: #DDD;\n",
              "  }\n",
              "\n",
              "  [theme=dark] .colab-df-quickchart {\n",
              "      --bg-color: #3B4455;\n",
              "      --fill-color: #D2E3FC;\n",
              "      --hover-bg-color: #434B5C;\n",
              "      --hover-fill-color: #FFFFFF;\n",
              "      --disabled-bg-color: #3B4455;\n",
              "      --disabled-fill-color: #666;\n",
              "  }\n",
              "\n",
              "  .colab-df-quickchart {\n",
              "    background-color: var(--bg-color);\n",
              "    border: none;\n",
              "    border-radius: 50%;\n",
              "    cursor: pointer;\n",
              "    display: none;\n",
              "    fill: var(--fill-color);\n",
              "    height: 32px;\n",
              "    padding: 0;\n",
              "    width: 32px;\n",
              "  }\n",
              "\n",
              "  .colab-df-quickchart:hover {\n",
              "    background-color: var(--hover-bg-color);\n",
              "    box-shadow: 0 1px 2px rgba(60, 64, 67, 0.3), 0 1px 3px 1px rgba(60, 64, 67, 0.15);\n",
              "    fill: var(--button-hover-fill-color);\n",
              "  }\n",
              "\n",
              "  .colab-df-quickchart-complete:disabled,\n",
              "  .colab-df-quickchart-complete:disabled:hover {\n",
              "    background-color: var(--disabled-bg-color);\n",
              "    fill: var(--disabled-fill-color);\n",
              "    box-shadow: none;\n",
              "  }\n",
              "\n",
              "  .colab-df-spinner {\n",
              "    border: 2px solid var(--fill-color);\n",
              "    border-color: transparent;\n",
              "    border-bottom-color: var(--fill-color);\n",
              "    animation:\n",
              "      spin 1s steps(1) infinite;\n",
              "  }\n",
              "\n",
              "  @keyframes spin {\n",
              "    0% {\n",
              "      border-color: transparent;\n",
              "      border-bottom-color: var(--fill-color);\n",
              "      border-left-color: var(--fill-color);\n",
              "    }\n",
              "    20% {\n",
              "      border-color: transparent;\n",
              "      border-left-color: var(--fill-color);\n",
              "      border-top-color: var(--fill-color);\n",
              "    }\n",
              "    30% {\n",
              "      border-color: transparent;\n",
              "      border-left-color: var(--fill-color);\n",
              "      border-top-color: var(--fill-color);\n",
              "      border-right-color: var(--fill-color);\n",
              "    }\n",
              "    40% {\n",
              "      border-color: transparent;\n",
              "      border-right-color: var(--fill-color);\n",
              "      border-top-color: var(--fill-color);\n",
              "    }\n",
              "    60% {\n",
              "      border-color: transparent;\n",
              "      border-right-color: var(--fill-color);\n",
              "    }\n",
              "    80% {\n",
              "      border-color: transparent;\n",
              "      border-right-color: var(--fill-color);\n",
              "      border-bottom-color: var(--fill-color);\n",
              "    }\n",
              "    90% {\n",
              "      border-color: transparent;\n",
              "      border-bottom-color: var(--fill-color);\n",
              "    }\n",
              "  }\n",
              "</style>\n",
              "\n",
              "  <script>\n",
              "    async function quickchart(key) {\n",
              "      const quickchartButtonEl =\n",
              "        document.querySelector('#' + key + ' button');\n",
              "      quickchartButtonEl.disabled = true;  // To prevent multiple clicks.\n",
              "      quickchartButtonEl.classList.add('colab-df-spinner');\n",
              "      try {\n",
              "        const charts = await google.colab.kernel.invokeFunction(\n",
              "            'suggestCharts', [key], {});\n",
              "      } catch (error) {\n",
              "        console.error('Error during call to suggestCharts:', error);\n",
              "      }\n",
              "      quickchartButtonEl.classList.remove('colab-df-spinner');\n",
              "      quickchartButtonEl.classList.add('colab-df-quickchart-complete');\n",
              "    }\n",
              "    (() => {\n",
              "      let quickchartButtonEl =\n",
              "        document.querySelector('#df-d0536e26-b55d-4b24-be12-3638535f2e36 button');\n",
              "      quickchartButtonEl.style.display =\n",
              "        google.colab.kernel.accessAllowed ? 'block' : 'none';\n",
              "    })();\n",
              "  </script>\n",
              "</div>\n",
              "    </div>\n",
              "  </div>\n"
            ]
          },
          "metadata": {},
          "execution_count": 14
        }
      ]
    },
    {
      "cell_type": "code",
      "source": [
        "# Distribution of labels in training data\n",
        "train_data.target.value_counts()\n"
      ],
      "metadata": {
        "colab": {
          "base_uri": "https://localhost:8080/"
        },
        "id": "KltHg3DOmtFF",
        "outputId": "112bef51-174b-4c24-9081-2d121a922142"
      },
      "execution_count": null,
      "outputs": [
        {
          "output_type": "execute_result",
          "data": {
            "text/plain": [
              "RESULTS        2280\n",
              "METHODS        2176\n",
              "CONCLUSIONS    1023\n",
              "BACKGROUND      582\n",
              "OBJECTIVE       519\n",
              "Name: target, dtype: int64"
            ]
          },
          "metadata": {},
          "execution_count": 15
        }
      ]
    },
    {
      "cell_type": "markdown",
      "source": [
        "Get lists of sentences"
      ],
      "metadata": {
        "id": "k1d-MesY148w"
      }
    },
    {
      "cell_type": "code",
      "source": [
        "# Convert abstract text lines into lists\n",
        "train_sentences = train_data[\"text\"].tolist()\n",
        "test_sentences = test_data[\"text\"].tolist()\n",
        "val_sentences = val_data[\"text\"].tolist()"
      ],
      "metadata": {
        "id": "nzf3Hc0w14L8"
      },
      "execution_count": null,
      "outputs": []
    },
    {
      "cell_type": "code",
      "source": [
        "# checking length\n",
        "len(train_sentences), len(val_sentences), len(test_sentences)"
      ],
      "metadata": {
        "colab": {
          "base_uri": "https://localhost:8080/"
        },
        "id": "nO3G0mU0nJrw",
        "outputId": "6b338880-ea11-4723-a23e-02c03fab115f"
      },
      "execution_count": null,
      "outputs": [
        {
          "output_type": "execute_result",
          "data": {
            "text/plain": [
              "(6580, 6536, 6575)"
            ]
          },
          "metadata": {},
          "execution_count": 17
        }
      ]
    },
    {
      "cell_type": "code",
      "source": [
        "# Extract labels (\"target\" columns) and encode them into integers\n",
        "from sklearn.preprocessing import LabelEncoder\n",
        "label_encoder = LabelEncoder()\n",
        "\n",
        "train_labels_encoded = label_encoder.fit_transform(train_data[\"target\"].to_numpy())\n",
        "val_labels_encoded = label_encoder.transform(val_data[\"target\"].to_numpy())\n",
        "test_labels_encoded = label_encoder.transform(test_data[\"target\"].to_numpy())"
      ],
      "metadata": {
        "id": "2IOQeHUa2iZj"
      },
      "execution_count": null,
      "outputs": []
    },
    {
      "cell_type": "code",
      "source": [
        "train_labels_encoded"
      ],
      "metadata": {
        "colab": {
          "base_uri": "https://localhost:8080/"
        },
        "id": "-gclYPGt2iWO",
        "outputId": "ac49e5c6-00fe-4bc0-b978-e9d0eb8a2ec8"
      },
      "execution_count": null,
      "outputs": [
        {
          "output_type": "execute_result",
          "data": {
            "text/plain": [
              "array([0, 0, 2, ..., 2, 4, 4])"
            ]
          },
          "metadata": {},
          "execution_count": 19
        }
      ]
    },
    {
      "cell_type": "code",
      "source": [
        "# Get class names and number of classes from LabelEncoder instance\n",
        "num_classes = len(label_encoder.classes_)\n",
        "class_names = label_encoder.classes_\n",
        "num_classes, class_names"
      ],
      "metadata": {
        "colab": {
          "base_uri": "https://localhost:8080/"
        },
        "id": "3RRQdgX42iRb",
        "outputId": "6a8ab10c-5429-4c55-86a0-7954fcf22d46"
      },
      "execution_count": null,
      "outputs": [
        {
          "output_type": "execute_result",
          "data": {
            "text/plain": [
              "(5,\n",
              " array(['BACKGROUND', 'CONCLUSIONS', 'METHODS', 'OBJECTIVE', 'RESULTS'],\n",
              "       dtype=object))"
            ]
          },
          "metadata": {},
          "execution_count": 20
        }
      ]
    },
    {
      "cell_type": "markdown",
      "source": [
        "**Model 0: Getting a baseline**"
      ],
      "metadata": {
        "id": "14OvEwz56Cgr"
      }
    },
    {
      "cell_type": "code",
      "source": [
        "# Function to evaluate: accuracy, precision, recall, f1-score\n",
        "from sklearn.metrics import accuracy_score, precision_recall_fscore_support\n",
        "\n",
        "def calculate_results(y_true, y_pred):\n",
        "  # Calculate model accuracy\n",
        "  model_accuracy = accuracy_score(y_true, y_pred) * 100\n",
        "  # Calculate model precision, recall and f1 score using \"weighted\" average\n",
        "  model_precision, model_recall, model_f1, _ = precision_recall_fscore_support(y_true, y_pred, average=\"weighted\")\n",
        "  model_results = {\"accuracy\": model_accuracy,\n",
        "                  \"precision\": model_precision,\n",
        "                  \"recall\": model_recall,\n",
        "                  \"f1\": model_f1}\n",
        "  return model_results"
      ],
      "metadata": {
        "id": "ix-klkmK8npC"
      },
      "execution_count": null,
      "outputs": []
    },
    {
      "cell_type": "code",
      "source": [
        "# importing from sklearn library\n",
        "from sklearn.feature_extraction.text import TfidfVectorizer\n",
        "from sklearn.naive_bayes import MultinomialNB\n",
        "from sklearn.pipeline import Pipeline"
      ],
      "metadata": {
        "id": "C2wJDSqP6CG4"
      },
      "execution_count": null,
      "outputs": []
    },
    {
      "cell_type": "code",
      "source": [
        "# creating pipeline:\n",
        "\n",
        "model_0 = Pipeline([\n",
        "                    (\"tf-idf\", TfidfVectorizer()),\n",
        "                    (\"clf\", MultinomialNB())\n",
        "                ])\n",
        "\n",
        "# Fit the pipeline to the training data\n",
        "model_0.fit(X=train_sentences, y=train_labels_encoded);\n"
      ],
      "metadata": {
        "id": "Q2wvmSvG1oFK"
      },
      "execution_count": null,
      "outputs": []
    },
    {
      "cell_type": "code",
      "source": [
        "# Evaluate baseline on validation dataset\n",
        "model_0.score(X=val_sentences,\n",
        "              y=val_labels_encoded)"
      ],
      "metadata": {
        "colab": {
          "base_uri": "https://localhost:8080/"
        },
        "id": "1l52wFt17QtA",
        "outputId": "7aefd94f-b74f-42d3-ba79-ce3726ce8d02"
      },
      "execution_count": null,
      "outputs": [
        {
          "output_type": "execute_result",
          "data": {
            "text/plain": [
              "0.6459608323133414"
            ]
          },
          "metadata": {},
          "execution_count": 24
        }
      ]
    },
    {
      "cell_type": "code",
      "source": [
        "# Make predictions\n",
        "baseline_preds = model_0.predict(val_sentences)\n",
        "baseline_preds"
      ],
      "metadata": {
        "colab": {
          "base_uri": "https://localhost:8080/"
        },
        "id": "LQ_JA82L89fv",
        "outputId": "a6aab79c-2ea3-4a14-ccb7-7e9cf1e1ec23"
      },
      "execution_count": null,
      "outputs": [
        {
          "output_type": "execute_result",
          "data": {
            "text/plain": [
              "array([4, 4, 4, ..., 2, 4, 4])"
            ]
          },
          "metadata": {},
          "execution_count": 25
        }
      ]
    },
    {
      "cell_type": "code",
      "source": [
        "model_0_result = calculate_results(y_true=val_labels_encoded,\n",
        "                                     y_pred=baseline_preds)\n",
        "\n",
        "model_0_result"
      ],
      "metadata": {
        "colab": {
          "base_uri": "https://localhost:8080/"
        },
        "id": "V4kXQ7kB7hhM",
        "outputId": "d1e1ac8e-fc86-465e-b3e9-602a1fcfca1d"
      },
      "execution_count": null,
      "outputs": [
        {
          "output_type": "stream",
          "name": "stderr",
          "text": [
            "/usr/local/lib/python3.10/dist-packages/sklearn/metrics/_classification.py:1344: UndefinedMetricWarning: Precision and F-score are ill-defined and being set to 0.0 in labels with no predicted samples. Use `zero_division` parameter to control this behavior.\n",
            "  _warn_prf(average, modifier, msg_start, len(result))\n"
          ]
        },
        {
          "output_type": "execute_result",
          "data": {
            "text/plain": [
              "{'accuracy': 64.59608323133415,\n",
              " 'precision': 0.5954490610692178,\n",
              " 'recall': 0.6459608323133414,\n",
              " 'f1': 0.5819085876230404}"
            ]
          },
          "metadata": {},
          "execution_count": 26
        }
      ]
    },
    {
      "cell_type": "markdown",
      "source": [
        "---\n",
        "---\n",
        "Create text vectorizer"
      ],
      "metadata": {
        "id": "VNJQmhUV9uUx"
      }
    },
    {
      "cell_type": "code",
      "source": [
        "# How many words are in our vocabulary? (taken from 3.2 in https://arxiv.org/pdf/1710.06071.pdf)\n",
        "max_tokens = 68000\n",
        "\n",
        "from tensorflow.keras.layers.experimental.preprocessing import TextVectorization\n",
        "\n",
        "text_vectorizer = TextVectorization(max_tokens = max_tokens, output_sequence_length=55)"
      ],
      "metadata": {
        "id": "jq35jQIa9JvJ"
      },
      "execution_count": null,
      "outputs": []
    },
    {
      "cell_type": "code",
      "source": [
        "# Adapt text vectorizer to training sentences\n",
        "text_vectorizer.adapt(train_sentences)"
      ],
      "metadata": {
        "id": "ykLx991i-cmy"
      },
      "execution_count": null,
      "outputs": []
    },
    {
      "cell_type": "code",
      "source": [
        "# How many words in our training vocabulary?\n",
        "rct_20k_text_vocab = text_vectorizer.get_vocabulary()\n",
        "print(f\"Number of words in vocabulary: {len(rct_20k_text_vocab)}\"),"
      ],
      "metadata": {
        "colab": {
          "base_uri": "https://localhost:8080/"
        },
        "id": "rskMGWcFBBWL",
        "outputId": "c3117831-7fc9-41c8-f0b8-bd16875a761a"
      },
      "execution_count": null,
      "outputs": [
        {
          "output_type": "stream",
          "name": "stdout",
          "text": [
            "Number of words in vocabulary: 10789\n"
          ]
        },
        {
          "output_type": "execute_result",
          "data": {
            "text/plain": [
              "(None,)"
            ]
          },
          "metadata": {},
          "execution_count": 30
        }
      ]
    },
    {
      "cell_type": "code",
      "source": [
        "\n",
        "# Test out text vectorizer\n",
        "import random\n",
        "target_sentence = random.choice(train_sentences)\n",
        "print(f\"Text:\\n{target_sentence}\")\n",
        "print(f\"\\nLength of text: {len(target_sentence.split())}\")\n",
        "print(f\"\\nVectorized text:\\n{text_vectorizer([target_sentence])}\")"
      ],
      "metadata": {
        "colab": {
          "base_uri": "https://localhost:8080/"
        },
        "id": "PLadCe5k-meL",
        "outputId": "a3a5913a-68bf-4058-d393-bcea069367fe"
      },
      "execution_count": null,
      "outputs": [
        {
          "output_type": "stream",
          "name": "stdout",
          "text": [
            "Text:\n",
            "the combination of larger trials required to provide definitive answers on the impact that postoperative radiotherapy will have on survival .\n",
            "\n",
            "Length of text: 21\n",
            "\n",
            "Vectorized text:\n",
            "[[   2  231    3  993  299  436    6  869 3228 3307   18    2  391   30\n",
            "   159  441  321  113   18  191    0    0    0    0    0    0    0    0\n",
            "     0    0    0    0    0    0    0    0    0    0    0    0    0    0\n",
            "     0    0    0    0    0    0    0    0    0    0    0    0    0]]\n"
          ]
        }
      ]
    },
    {
      "cell_type": "code",
      "source": [
        "# Get the config of our text vectorizer\n",
        "text_vectorizer.get_config()"
      ],
      "metadata": {
        "colab": {
          "base_uri": "https://localhost:8080/"
        },
        "id": "QuJi1I_l-6tj",
        "outputId": "dd0448ce-dfe3-49ad-e8c8-6887609c7ae2"
      },
      "execution_count": null,
      "outputs": [
        {
          "output_type": "execute_result",
          "data": {
            "text/plain": [
              "{'name': 'text_vectorization_1',\n",
              " 'trainable': True,\n",
              " 'dtype': 'string',\n",
              " 'batch_input_shape': (None,),\n",
              " 'max_tokens': 68000,\n",
              " 'standardize': 'lower_and_strip_punctuation',\n",
              " 'split': 'whitespace',\n",
              " 'ngrams': None,\n",
              " 'output_mode': 'int',\n",
              " 'output_sequence_length': 55,\n",
              " 'pad_to_max_tokens': False,\n",
              " 'sparse': False,\n",
              " 'ragged': False,\n",
              " 'vocabulary': None,\n",
              " 'idf_weights': None,\n",
              " 'encoding': 'utf-8',\n",
              " 'vocabulary_size': 10789}"
            ]
          },
          "metadata": {},
          "execution_count": 31
        }
      ]
    },
    {
      "cell_type": "markdown",
      "source": [
        "**Create custom text embedding**"
      ],
      "metadata": {
        "id": "Sn_7LKbCBgYH"
      }
    },
    {
      "cell_type": "code",
      "source": [
        "# Create token embedding layer:\n",
        "from tensorflow.keras import layers\n",
        "\n",
        "token_embed = layers.Embedding(input_dim = len(rct_20k_text_vocab),\n",
        "                               output_dim = 128,\n",
        "                               mask_zero = True,\n",
        "                               name = \"token_embedding\")\n",
        "\n",
        "# Show example embedding\n",
        "print(f\"Sentence before vectorization:\\n{target_sentence}\\n\")\n",
        "vectorized_sentence = text_vectorizer([target_sentence])\n",
        "print(f\"Sentence after vectorization (before embedding):\\n{vectorized_sentence}\\n\")\n",
        "embedded_sentence = token_embed(vectorized_sentence)\n",
        "print(f\"Sentence after embedding:\\n{embedded_sentence}\\n\")\n",
        "print(f\"Embedded sentence shape: {embedded_sentence.shape}\")"
      ],
      "metadata": {
        "colab": {
          "base_uri": "https://localhost:8080/"
        },
        "id": "lsGHxOaF-6g1",
        "outputId": "b0676bb6-19b0-4793-bc70-97fc7da1fcb1"
      },
      "execution_count": null,
      "outputs": [
        {
          "output_type": "stream",
          "name": "stdout",
          "text": [
            "Sentence before vectorization:\n",
            "the combination of larger trials required to provide definitive answers on the impact that postoperative radiotherapy will have on survival .\n",
            "\n",
            "Sentence after vectorization (before embedding):\n",
            "[[   2  231    3  993  299  436    6  869 3228 3307   18    2  391   30\n",
            "   159  441  321  113   18  191    0    0    0    0    0    0    0    0\n",
            "     0    0    0    0    0    0    0    0    0    0    0    0    0    0\n",
            "     0    0    0    0    0    0    0    0    0    0    0    0    0]]\n",
            "\n",
            "Sentence after embedding:\n",
            "[[[-0.01968236  0.04939333 -0.01459261 ...  0.00777439 -0.02695487\n",
            "    0.04907003]\n",
            "  [ 0.02678419  0.01008222  0.01615481 ...  0.04167253 -0.01649108\n",
            "    0.04353036]\n",
            "  [-0.03263947  0.03802695  0.02836544 ...  0.04521065  0.00173528\n",
            "   -0.00300187]\n",
            "  ...\n",
            "  [ 0.01225883  0.00700734 -0.01818819 ...  0.04828379  0.01119556\n",
            "    0.0087638 ]\n",
            "  [ 0.01225883  0.00700734 -0.01818819 ...  0.04828379  0.01119556\n",
            "    0.0087638 ]\n",
            "  [ 0.01225883  0.00700734 -0.01818819 ...  0.04828379  0.01119556\n",
            "    0.0087638 ]]]\n",
            "\n",
            "Embedded sentence shape: (1, 55, 128)\n"
          ]
        }
      ]
    },
    {
      "cell_type": "code",
      "source": [
        "# One hot encode labels\n",
        "from sklearn.preprocessing import OneHotEncoder\n",
        "\n",
        "OHE = OneHotEncoder(sparse_output = False)\n",
        "train_labels_one_hot = OHE.fit_transform(train_data[\"target\"].to_numpy().reshape(-1, 1))\n",
        "val_labels_one_hot = OHE.transform(val_data[\"target\"].to_numpy().reshape(-1, 1))\n",
        "test_labels_one_hot = OHE.transform(test_data[\"target\"].to_numpy().reshape(-1, 1))\n",
        "\n",
        "# sample of train_labels_one_hot:\n",
        "train_labels_one_hot"
      ],
      "metadata": {
        "colab": {
          "base_uri": "https://localhost:8080/"
        },
        "id": "OQYnrFxSFs9m",
        "outputId": "cb8e240b-cb6e-45c0-fba0-e173e01a5272"
      },
      "execution_count": null,
      "outputs": [
        {
          "output_type": "execute_result",
          "data": {
            "text/plain": [
              "array([[1., 0., 0., 0., 0.],\n",
              "       [1., 0., 0., 0., 0.],\n",
              "       [0., 0., 1., 0., 0.],\n",
              "       ...,\n",
              "       [0., 0., 1., 0., 0.],\n",
              "       [0., 0., 0., 0., 1.],\n",
              "       [0., 0., 0., 0., 1.]])"
            ]
          },
          "metadata": {},
          "execution_count": 36
        }
      ]
    },
    {
      "cell_type": "code",
      "source": [
        "# Turn our data into TensorFlow Datasets\n",
        "import tensorflow as tf\n",
        "\n",
        "train_dataset = tf.data.Dataset.from_tensor_slices((train_sentences, train_labels_one_hot))\n",
        "val_dataset = tf.data.Dataset.from_tensor_slices((val_sentences, val_labels_one_hot))\n",
        "test_dataset = tf.data.Dataset.from_tensor_slices((test_sentences, test_labels_one_hot))"
      ],
      "metadata": {
        "id": "9h_2Bw8fDZ6u"
      },
      "execution_count": null,
      "outputs": []
    },
    {
      "cell_type": "code",
      "source": [
        "train_dataset"
      ],
      "metadata": {
        "colab": {
          "base_uri": "https://localhost:8080/"
        },
        "id": "_RxPDw3zHEfB",
        "outputId": "f150fa52-8751-4fca-9e57-509276863af6"
      },
      "execution_count": null,
      "outputs": [
        {
          "output_type": "execute_result",
          "data": {
            "text/plain": [
              "<_TensorSliceDataset element_spec=(TensorSpec(shape=(), dtype=tf.string, name=None), TensorSpec(shape=(5,), dtype=tf.float64, name=None))>"
            ]
          },
          "metadata": {},
          "execution_count": 40
        }
      ]
    },
    {
      "cell_type": "code",
      "source": [
        "# Take the TensorSliceDataset's and turn them into prefetched batches\n",
        "train_dataset = train_dataset.batch(32).prefetch(tf.data.AUTOTUNE)\n",
        "valid_dataset = val_dataset.batch(32).prefetch(tf.data.AUTOTUNE)\n",
        "test_dataset = test_dataset.batch(32).prefetch(tf.data.AUTOTUNE)\n",
        "\n",
        "train_dataset"
      ],
      "metadata": {
        "colab": {
          "base_uri": "https://localhost:8080/"
        },
        "id": "nfG3yu5_HQer",
        "outputId": "f84386b8-5356-4c5f-f5d1-e863269ddffa"
      },
      "execution_count": null,
      "outputs": [
        {
          "output_type": "execute_result",
          "data": {
            "text/plain": [
              "<_PrefetchDataset element_spec=(TensorSpec(shape=(None,), dtype=tf.string, name=None), TensorSpec(shape=(None, 5), dtype=tf.float64, name=None))>"
            ]
          },
          "metadata": {},
          "execution_count": 41
        }
      ]
    },
    {
      "cell_type": "markdown",
      "source": [
        "**Model 1: Conv1D with token embeddings**"
      ],
      "metadata": {
        "id": "lFludI7ZHobn"
      }
    },
    {
      "cell_type": "code",
      "source": [
        "# Create 1D convolutional model to process sequences\n",
        "inputs = tf.keras.layers.Input(shape=(1,), dtype=tf.string)\n",
        "text_vector = text_vectorizer(inputs)\n",
        "token_embeddings = token_embed(text_vector) # create embedding\n",
        "x = tf.keras.layers.Conv1D(64, kernel_size=5, padding=\"same\", activation= \"relu\")(token_embeddings)\n",
        "\n",
        "x = tf.keras.layers.Conv1D(64,3, activation= \"relu\")(x)\n",
        "x = tf.keras.layers.GlobalAveragePooling1D()(x)\n",
        "outputs = tf.keras.layers.Dense(num_classes, activation=\"softmax\")(x)\n",
        "model_1 = tf.keras.Model(inputs, outputs)\n",
        "\n",
        "\n",
        "# Compile\n",
        "model_1.compile(loss=\"categorical_crossentropy\", # if your labels are integer form (not one hot) use sparse_categorical_crossentropy\n",
        "                optimizer=tf.keras.optimizers.Adam(),\n",
        "                metrics=[\"accuracy\"])\n",
        "\n",
        "\n",
        "# Get summary of Conv1D model\n",
        "model_1.summary()"
      ],
      "metadata": {
        "colab": {
          "base_uri": "https://localhost:8080/"
        },
        "id": "bqUgNNvqHbEM",
        "outputId": "55cca1e7-da99-4b75-fef7-cce631529c68"
      },
      "execution_count": null,
      "outputs": [
        {
          "output_type": "stream",
          "name": "stdout",
          "text": [
            "Model: \"model_3\"\n",
            "_________________________________________________________________\n",
            " Layer (type)                Output Shape              Param #   \n",
            "=================================================================\n",
            " input_9 (InputLayer)        [(None, 1)]               0         \n",
            "                                                                 \n",
            " text_vectorization_1 (Text  (None, 55)                0         \n",
            " Vectorization)                                                  \n",
            "                                                                 \n",
            " token_embedding (Embedding  (None, 55, 128)           1380992   \n",
            " )                                                               \n",
            "                                                                 \n",
            " conv1d_10 (Conv1D)          (None, 55, 64)            41024     \n",
            "                                                                 \n",
            " conv1d_11 (Conv1D)          (None, 53, 64)            12352     \n",
            "                                                                 \n",
            " global_average_pooling1d_7  (None, 64)                0         \n",
            "  (GlobalAveragePooling1D)                                       \n",
            "                                                                 \n",
            " dense_3 (Dense)             (None, 5)                 325       \n",
            "                                                                 \n",
            "=================================================================\n",
            "Total params: 1434693 (5.47 MB)\n",
            "Trainable params: 1434693 (5.47 MB)\n",
            "Non-trainable params: 0 (0.00 Byte)\n",
            "_________________________________________________________________\n"
          ]
        }
      ]
    },
    {
      "cell_type": "code",
      "source": [
        "# Fit model\n",
        "early_stop = tf.keras.callbacks.EarlyStopping(\n",
        "    monitor='val_accuracy',  # Monitor validation accuracy\n",
        "    patience=3,               # Number of epochs with no improvement after which training will be stopped\n",
        "    verbose=1,               # Display log messages\n",
        "    restore_best_weights=True # Restore model weights from the epoch with the best value of the monitored quantity\n",
        ")\n",
        "\n",
        "\n",
        "# Fit the model\n",
        "model_1_history = model_1.fit(train_dataset,\n",
        "                              steps_per_epoch=int(0.1 * len(train_dataset)), # only fit on 10% of batches for faster training time\n",
        "                              epochs=20,\n",
        "                              validation_data=valid_dataset,\n",
        "                              validation_steps=int(0.1 * len(valid_dataset)), # only validate on 10% of batches\n",
        "                              callbacks = [early_stop])\n"
      ],
      "metadata": {
        "colab": {
          "base_uri": "https://localhost:8080/"
        },
        "id": "K97Xs5tyIDvy",
        "outputId": "5a68940b-b923-421f-910e-214a97099a8e"
      },
      "execution_count": null,
      "outputs": [
        {
          "output_type": "stream",
          "name": "stdout",
          "text": [
            "Epoch 1/20\n",
            "20/20 [==============================] - 4s 162ms/step - loss: 1.4109 - accuracy: 0.4000 - val_loss: 1.1773 - val_accuracy: 0.5750\n",
            "Epoch 2/20\n",
            "20/20 [==============================] - 4s 203ms/step - loss: 0.9902 - accuracy: 0.6313 - val_loss: 0.8723 - val_accuracy: 0.6922\n",
            "Epoch 3/20\n",
            "20/20 [==============================] - 2s 116ms/step - loss: 0.6511 - accuracy: 0.7625 - val_loss: 0.7567 - val_accuracy: 0.7016\n",
            "Epoch 4/20\n",
            "20/20 [==============================] - 1s 54ms/step - loss: 0.5022 - accuracy: 0.8250 - val_loss: 0.7201 - val_accuracy: 0.7188\n",
            "Epoch 5/20\n",
            "20/20 [==============================] - 1s 59ms/step - loss: 0.4623 - accuracy: 0.8000 - val_loss: 0.7149 - val_accuracy: 0.7266\n",
            "Epoch 6/20\n",
            "20/20 [==============================] - 1s 66ms/step - loss: 0.4339 - accuracy: 0.8422 - val_loss: 0.7424 - val_accuracy: 0.7297\n",
            "Epoch 7/20\n",
            "20/20 [==============================] - 1s 37ms/step - loss: 0.4161 - accuracy: 0.8266 - val_loss: 0.7231 - val_accuracy: 0.7344\n",
            "Epoch 8/20\n",
            "20/20 [==============================] - 1s 53ms/step - loss: 0.4692 - accuracy: 0.8078 - val_loss: 0.7318 - val_accuracy: 0.7078\n",
            "Epoch 9/20\n",
            "20/20 [==============================] - 1s 26ms/step - loss: 0.5569 - accuracy: 0.7859 - val_loss: 0.7538 - val_accuracy: 0.7156\n",
            "Epoch 10/20\n",
            "16/20 [=======================>......] - ETA: 0s - loss: 0.5356 - accuracy: 0.8086Restoring model weights from the end of the best epoch: 7.\n",
            "20/20 [==============================] - 1s 27ms/step - loss: 0.5176 - accuracy: 0.8141 - val_loss: 0.7704 - val_accuracy: 0.7156\n",
            "Epoch 10: early stopping\n"
          ]
        }
      ]
    },
    {
      "cell_type": "code",
      "source": [
        "# Make predictions (our model outputs prediction probabilities for each class)\n",
        "model_1_pred_probs = model_1.predict(valid_dataset)\n",
        "model_1_pred_probs\n"
      ],
      "metadata": {
        "colab": {
          "base_uri": "https://localhost:8080/"
        },
        "id": "IHCccx9IJyiC",
        "outputId": "340b4871-20da-4f1b-c182-0f3b57de7d9e"
      },
      "execution_count": null,
      "outputs": [
        {
          "output_type": "stream",
          "name": "stdout",
          "text": [
            "205/205 [==============================] - 1s 4ms/step\n"
          ]
        },
        {
          "output_type": "execute_result",
          "data": {
            "text/plain": [
              "array([[4.6115461e-01, 3.1202278e-01, 1.3309208e-05, 2.2680518e-01,\n",
              "        4.0974978e-06],\n",
              "       [4.9477466e-04, 3.5672172e-04, 9.6054596e-01, 1.0926245e-03,\n",
              "        3.7510041e-02],\n",
              "       [7.6241052e-04, 3.0227458e-02, 1.2059624e-02, 4.9235555e-04,\n",
              "        9.5645821e-01],\n",
              "       ...,\n",
              "       [5.2287905e-03, 2.3350157e-03, 9.3015248e-01, 7.9655135e-03,\n",
              "        5.4318227e-02],\n",
              "       [4.7497591e-03, 5.2776434e-02, 1.7316021e-02, 2.5896661e-03,\n",
              "        9.2256808e-01],\n",
              "       [3.4693943e-03, 4.5789522e-03, 6.2492472e-01, 3.6900775e-03,\n",
              "        3.6333686e-01]], dtype=float32)"
            ]
          },
          "metadata": {},
          "execution_count": 55
        }
      ]
    },
    {
      "cell_type": "code",
      "source": [
        "# Evaluate on whole validation dataset (we only validated on 10% of batches during training)\n",
        "model_1.evaluate(valid_dataset)"
      ],
      "metadata": {
        "colab": {
          "base_uri": "https://localhost:8080/"
        },
        "id": "F1zeu063LJKX",
        "outputId": "f803f9db-0619-4031-86bf-36c4dbdbd27e"
      },
      "execution_count": null,
      "outputs": [
        {
          "output_type": "stream",
          "name": "stdout",
          "text": [
            "205/205 [==============================] - 2s 9ms/step - loss: 0.7245 - accuracy: 0.7370\n"
          ]
        },
        {
          "output_type": "execute_result",
          "data": {
            "text/plain": [
              "[0.7244678735733032, 0.7369951009750366]"
            ]
          },
          "metadata": {},
          "execution_count": 56
        }
      ]
    },
    {
      "cell_type": "code",
      "source": [
        "\n",
        "# Convert pred probs to classes\n",
        "model_1_preds = tf.argmax(model_1_pred_probs, axis=1)\n",
        "model_1_preds\n"
      ],
      "metadata": {
        "colab": {
          "base_uri": "https://localhost:8080/"
        },
        "id": "Rc-nYZrtLbUB",
        "outputId": "22addbe6-19fc-4220-e7e1-1e57182f5c2c"
      },
      "execution_count": null,
      "outputs": [
        {
          "output_type": "execute_result",
          "data": {
            "text/plain": [
              "<tf.Tensor: shape=(6536,), dtype=int64, numpy=array([0, 2, 4, ..., 2, 4, 2])>"
            ]
          },
          "metadata": {},
          "execution_count": 57
        }
      ]
    },
    {
      "cell_type": "code",
      "source": [
        "# Calculate model_1 results\n",
        "model_1_results = calculate_results(y_true=val_labels_encoded,\n",
        "                                    y_pred=model_1_preds)\n",
        "model_1_results"
      ],
      "metadata": {
        "colab": {
          "base_uri": "https://localhost:8080/"
        },
        "id": "cwT7kwvqLlS8",
        "outputId": "f5033c7e-e0a7-4e1f-a5e5-0f0f0ac8eeaa"
      },
      "execution_count": null,
      "outputs": [
        {
          "output_type": "execute_result",
          "data": {
            "text/plain": [
              "{'accuracy': 73.69951040391676,\n",
              " 'precision': 0.7298198089752317,\n",
              " 'recall': 0.7369951040391677,\n",
              " 'f1': 0.7305875582918205}"
            ]
          },
          "metadata": {},
          "execution_count": 58
        }
      ]
    },
    {
      "cell_type": "markdown",
      "source": [
        "---\n",
        "---\n",
        "**Model 2: Feature extraction with pretrained token embeddings**"
      ],
      "metadata": {
        "id": "noVt76s9L0sv"
      }
    },
    {
      "cell_type": "code",
      "source": [
        "# Download pretrained TensorFlow Hub USE\n",
        "import tensorflow_hub as hub\n",
        "tf_hub_embedding_layer = hub.KerasLayer(\"https://tfhub.dev/google/universal-sentence-encoder/4\",\n",
        "                                        trainable=False,\n",
        "                                        name=\"universal_sentence_encoder\")"
      ],
      "metadata": {
        "id": "Q014cFYRL0Qa"
      },
      "execution_count": null,
      "outputs": []
    },
    {
      "cell_type": "markdown",
      "source": [
        "#### sample testing"
      ],
      "metadata": {
        "id": "bjnVlCNbMXJt"
      }
    },
    {
      "cell_type": "code",
      "source": [
        "# Test out the embedding on a random sentence\n",
        "random_training_sentence = random.choice(train_sentences)\n",
        "print(f\"Random training sentence:\\n{random_training_sentence}\\n\")\n",
        "use_embedded_sentence = tf_hub_embedding_layer([random_training_sentence])\n",
        "print(f\"Sentence after embedding:\\n{use_embedded_sentence[0][:30]} (truncated output)...\\n\")\n",
        "print(f\"Length of sentence embedding:\\n{len(use_embedded_sentence[0])}\")"
      ],
      "metadata": {
        "colab": {
          "base_uri": "https://localhost:8080/"
        },
        "id": "K0WKYH_WLrEe",
        "outputId": "d2594d4e-618d-4382-d026-f177eec53d61"
      },
      "execution_count": null,
      "outputs": [
        {
          "output_type": "stream",
          "name": "stdout",
          "text": [
            "Random training sentence:\n",
            "to assess differences through grade @ in diet , physical activity , and related health indicators of students who participated in the child and adolescent trial for cardiovascular health ( catch ) school and family intervention from grades @ through @ .\n",
            "\n",
            "Sentence after embedding:\n",
            "[-0.03698356  0.03442623 -0.01762473 -0.01802581 -0.07385452 -0.03297535\n",
            " -0.00124993  0.03804636 -0.00965928  0.04716054  0.07754634 -0.03764406\n",
            "  0.04004035 -0.03869425 -0.047147    0.0169241  -0.08725169  0.07658144\n",
            " -0.00681534 -0.08713003  0.07382903  0.01380375  0.00697132 -0.06589474\n",
            "  0.00990501 -0.00160036 -0.0577521   0.08055027 -0.01660048  0.00840545] (truncated output)...\n",
            "\n",
            "Length of sentence embedding:\n",
            "512\n"
          ]
        }
      ]
    },
    {
      "cell_type": "code",
      "source": [
        "# Define feature extractor model using TF Hub layer\n",
        "inputs = layers.Input(shape=[], dtype=tf.string)\n",
        "pretrained_embedding = tf_hub_embedding_layer(inputs) # tokenize text and create embedding\n",
        "x = layers.Dense(128, activation=\"relu\")(pretrained_embedding) # add a fully connected layer on top of the embedding\n",
        "\n",
        "outputs = layers.Dense(5, activation=\"softmax\")(x) # create the output layer\n",
        "model_2 = tf.keras.Model(inputs=inputs,\n",
        "                        outputs=outputs)\n",
        "\n",
        "# Compile the model\n",
        "model_2.compile(loss=\"categorical_crossentropy\",\n",
        "                optimizer=tf.keras.optimizers.Adam(),\n",
        "                metrics=[\"accuracy\"])"
      ],
      "metadata": {
        "id": "sbJIsrTiMOMB"
      },
      "execution_count": null,
      "outputs": []
    },
    {
      "cell_type": "code",
      "source": [
        "model_2.summary()"
      ],
      "metadata": {
        "colab": {
          "base_uri": "https://localhost:8080/"
        },
        "id": "3fqouVdHMlhp",
        "outputId": "011b5cf1-8136-45fd-af30-5244db1aa652"
      },
      "execution_count": null,
      "outputs": [
        {
          "output_type": "stream",
          "name": "stdout",
          "text": [
            "Model: \"model_5\"\n",
            "_________________________________________________________________\n",
            " Layer (type)                Output Shape              Param #   \n",
            "=================================================================\n",
            " input_13 (InputLayer)       [(None,)]                 0         \n",
            "                                                                 \n",
            " universal_sentence_encoder  (None, 512)               256797824 \n",
            "  (KerasLayer)                                                   \n",
            "                                                                 \n",
            " dense_8 (Dense)             (None, 128)               65664     \n",
            "                                                                 \n",
            " dense_9 (Dense)             (None, 5)                 645       \n",
            "                                                                 \n",
            "=================================================================\n",
            "Total params: 256864133 (979.86 MB)\n",
            "Trainable params: 66309 (259.02 KB)\n",
            "Non-trainable params: 256797824 (979.61 MB)\n",
            "_________________________________________________________________\n"
          ]
        }
      ]
    },
    {
      "cell_type": "code",
      "source": [
        "# Fit feature extractor model for 20 epochs\n",
        "\n",
        "model_2_history = model_2.fit(train_dataset,\n",
        "                              steps_per_epoch=int(0.1 * len(train_dataset)), # only fit on 10% of batches for faster training time\n",
        "                              epochs=20,\n",
        "                              validation_data=valid_dataset,\n",
        "                              validation_steps=int(0.1 * len(valid_dataset)), # only validate on 10% of batches\n",
        "                              callbacks = [early_stop])\n"
      ],
      "metadata": {
        "colab": {
          "base_uri": "https://localhost:8080/"
        },
        "id": "H4Ce-M9MMo2z",
        "outputId": "3d0a0518-dc06-471a-a641-25f7ca58bfdc"
      },
      "execution_count": null,
      "outputs": [
        {
          "output_type": "stream",
          "name": "stdout",
          "text": [
            "Epoch 1/20\n",
            "20/20 [==============================] - 4s 170ms/step - loss: 1.5170 - accuracy: 0.4234 - val_loss: 1.4020 - val_accuracy: 0.5250\n",
            "Epoch 2/20\n",
            "20/20 [==============================] - 2s 115ms/step - loss: 1.3381 - accuracy: 0.4969 - val_loss: 1.2382 - val_accuracy: 0.5562\n",
            "Epoch 3/20\n",
            "20/20 [==============================] - 2s 83ms/step - loss: 1.1767 - accuracy: 0.5719 - val_loss: 1.1124 - val_accuracy: 0.6141\n",
            "Epoch 4/20\n",
            "20/20 [==============================] - 2s 82ms/step - loss: 1.0521 - accuracy: 0.6078 - val_loss: 1.0197 - val_accuracy: 0.6297\n",
            "Epoch 5/20\n",
            "20/20 [==============================] - 2s 83ms/step - loss: 1.0031 - accuracy: 0.6109 - val_loss: 0.9457 - val_accuracy: 0.6547\n",
            "Epoch 6/20\n",
            "20/20 [==============================] - 2s 82ms/step - loss: 0.8947 - accuracy: 0.6562 - val_loss: 0.8929 - val_accuracy: 0.6687\n",
            "Epoch 7/20\n",
            "20/20 [==============================] - 2s 84ms/step - loss: 0.8577 - accuracy: 0.6797 - val_loss: 0.8532 - val_accuracy: 0.6766\n",
            "Epoch 8/20\n",
            "20/20 [==============================] - 2s 83ms/step - loss: 0.8890 - accuracy: 0.6516 - val_loss: 0.8426 - val_accuracy: 0.6891\n",
            "Epoch 9/20\n",
            "20/20 [==============================] - 2s 90ms/step - loss: 0.8826 - accuracy: 0.6844 - val_loss: 0.8178 - val_accuracy: 0.7031\n",
            "Epoch 10/20\n",
            "20/20 [==============================] - 2s 100ms/step - loss: 0.8439 - accuracy: 0.6875 - val_loss: 0.8108 - val_accuracy: 0.7047\n",
            "Epoch 11/20\n",
            " 5/20 [======>.......................] - ETA: 0s - loss: 0.8507 - accuracy: 0.7000"
          ]
        },
        {
          "output_type": "stream",
          "name": "stderr",
          "text": [
            "WARNING:tensorflow:Your input ran out of data; interrupting training. Make sure that your dataset or generator can generate at least `steps_per_epoch * epochs` batches (in this case, 400 batches). You may need to use the repeat() function when building your dataset.\n"
          ]
        },
        {
          "output_type": "stream",
          "name": "stdout",
          "text": [
            "\b\b\b\b\b\b\b\b\b\b\b\b\b\b\b\b\b\b\b\b\b\b\b\b\b\b\b\b\b\b\b\b\b\b\b\b\b\b\b\b\b\b\b\b\b\b\b\b\b\b\b\b\b\b\b\b\b\b\b\b\b\b\b\b\b\b\b\b\b\b\b\b\b\b\b\b\b\b\b\b\b\b\r20/20 [==============================] - 1s 76ms/step - loss: 0.8345 - accuracy: 0.7167 - val_loss: 0.8042 - val_accuracy: 0.7063\n"
          ]
        }
      ]
    },
    {
      "cell_type": "markdown",
      "source": [
        "---\n",
        "---\n",
        "### Model 3: Conv1D with character embeddings:"
      ],
      "metadata": {
        "id": "nhmgE-zJN5oB"
      }
    },
    {
      "cell_type": "code",
      "source": [
        "# Make function to split sentences into characters\n",
        "def split_chars(text):\n",
        "  return \" \".join(list(text))\n",
        "\n",
        "\n",
        "# Test splitting non-character-level sequence into characters\n",
        "split_chars(train_sentences[:2])"
      ],
      "metadata": {
        "colab": {
          "base_uri": "https://localhost:8080/",
          "height": 53
        },
        "id": "0lqucEcKMyN0",
        "outputId": "83edf7aa-aa3a-4f0b-e4c5-5b4f34a38e07"
      },
      "execution_count": null,
      "outputs": [
        {
          "output_type": "execute_result",
          "data": {
            "text/plain": [
              "'the emergence of hiv as a chronic condition means that people living with hiv are required to take more responsibility for the self-management of their condition , including making physical , emotional and social adjustments . this paper describes the design and evaluation of positive outlook , an online program aiming to enhance the self-management skills of gay men living with hiv .'"
            ],
            "application/vnd.google.colaboratory.intrinsic+json": {
              "type": "string"
            }
          },
          "metadata": {},
          "execution_count": 77
        }
      ]
    },
    {
      "cell_type": "code",
      "source": [
        "# Split sequence-level data splits into character-level data splits\n",
        "\n",
        "def chars(data):\n",
        "    try:\n",
        "        all_split_word = []\n",
        "        for i in data:\n",
        "            split_words = split_chars(i)\n",
        "            all_split_word.append(split_words)\n",
        "        return all_split_word\n",
        "\n",
        "    except Exception as e:\n",
        "        raise e\n"
      ],
      "metadata": {
        "id": "F1n65xKeN-g4"
      },
      "execution_count": null,
      "outputs": []
    },
    {
      "cell_type": "code",
      "source": [
        "train_chars = chars(train_sentences)\n",
        "val_chars = chars(val_sentences)\n",
        "test_chars = chars(test_sentences)"
      ],
      "metadata": {
        "id": "6nTE-vxZQkNX"
      },
      "execution_count": null,
      "outputs": []
    },
    {
      "cell_type": "code",
      "source": [
        "train_chars[0]\n"
      ],
      "metadata": {
        "colab": {
          "base_uri": "https://localhost:8080/",
          "height": 53
        },
        "id": "R9WZlaTHQrRw",
        "outputId": "fee28bf3-e066-477b-bddd-5e25ecfa3eee"
      },
      "execution_count": null,
      "outputs": [
        {
          "output_type": "execute_result",
          "data": {
            "text/plain": [
              "'t h e   e m e r g e n c e   o f   h i v   a s   a   c h r o n i c   c o n d i t i o n   m e a n s   t h a t   p e o p l e   l i v i n g   w i t h   h i v   a r e   r e q u i r e d   t o   t a k e   m o r e   r e s p o n s i b i l i t y   f o r   t h e   s e l f - m a n a g e m e n t   o f   t h e i r   c o n d i t i o n   ,   i n c l u d i n g   m a k i n g   p h y s i c a l   ,   e m o t i o n a l   a n d   s o c i a l   a d j u s t m e n t s   .'"
            ],
            "application/vnd.google.colaboratory.intrinsic+json": {
              "type": "string"
            }
          },
          "metadata": {},
          "execution_count": 88
        }
      ]
    },
    {
      "cell_type": "code",
      "source": [
        "import numpy as np\n",
        "lengths = []\n",
        "for i in train_sentences:\n",
        "    length = len(i)\n",
        "    lengths.append(length)\n",
        "\n",
        "mean_char_len = np.mean(lengths)\n",
        "print(mean_char_len)"
      ],
      "metadata": {
        "colab": {
          "base_uri": "https://localhost:8080/"
        },
        "id": "VAb49-6_Q-2T",
        "outputId": "e2e39d9b-3c38-497a-f4cc-139b0f731372"
      },
      "execution_count": null,
      "outputs": [
        {
          "output_type": "stream",
          "name": "stdout",
          "text": [
            "148.19954407294833\n"
          ]
        }
      ]
    },
    {
      "cell_type": "code",
      "source": [
        "# Check the distribution of our sequences at character-level\n",
        "import matplotlib.pyplot as plt\n",
        "plt.hist(char_lens, bins=7);"
      ],
      "metadata": {
        "colab": {
          "base_uri": "https://localhost:8080/",
          "height": 432
        },
        "id": "URgWdsIhSf4S",
        "outputId": "07189a19-5a5f-463f-a235-4fe8bbebdba3"
      },
      "execution_count": null,
      "outputs": [
        {
          "output_type": "display_data",
          "data": {
            "text/plain": [
              "<Figure size 640x480 with 1 Axes>"
            ],
            "image/png": "[encoded data removed]"
          },
          "metadata": {}
        }
      ]
    },
    {
      "cell_type": "code",
      "source": [
        "# Find what character length covers 95% of sequences\n",
        "output_seq_char_len = int(np.percentile(lengths, 95))\n",
        "output_seq_char_len"
      ],
      "metadata": {
        "colab": {
          "base_uri": "https://localhost:8080/"
        },
        "id": "tKkxgwaFSy_i",
        "outputId": "89377aaf-e731-4bc9-e3c6-fef88fb0cdaf"
      },
      "execution_count": null,
      "outputs": [
        {
          "output_type": "execute_result",
          "data": {
            "text/plain": [
              "287"
            ]
          },
          "metadata": {},
          "execution_count": 96
        }
      ]
    },
    {
      "cell_type": "code",
      "source": [
        "# Get all keyboard characters for char-level embedding\n",
        "import string\n",
        "alphabet = string.ascii_lowercase + string.digits + string.punctuation\n",
        "print(alphabet)\n",
        "\n",
        "# Create char-level token vectorizer instance\n",
        "NUM_CHAR_TOKENS = len(alphabet) + 2\n",
        "NUM_CHAR_TOKENS"
      ],
      "metadata": {
        "colab": {
          "base_uri": "https://localhost:8080/"
        },
        "id": "y_SZh4djTi4j",
        "outputId": "96c4fdba-0c5e-42be-8681-66bf763f6f0b"
      },
      "execution_count": null,
      "outputs": [
        {
          "output_type": "stream",
          "name": "stdout",
          "text": [
            "abcdefghijklmnopqrstuvwxyz0123456789!\"#$%&'()*+,-./:;<=>?@[\\]^_`{|}~\n"
          ]
        },
        {
          "output_type": "execute_result",
          "data": {
            "text/plain": [
              "70"
            ]
          },
          "metadata": {},
          "execution_count": 100
        }
      ]
    },
    {
      "cell_type": "code",
      "source": [
        "char_vectorizer = TextVectorization(max_tokens = NUM_CHAR_TOKENS,\n",
        "                                    output_sequence_length=output_seq_char_len,\n",
        "                                    standardize=\"lower_and_strip_punctuation\",\n",
        "                                    name=\"char_vectorizer\")\n",
        "\n",
        "# Adapt character vectorizer to training characters\n",
        "char_vectorizer.adapt(train_chars)"
      ],
      "metadata": {
        "id": "dubMrTFuUvxz"
      },
      "execution_count": null,
      "outputs": []
    },
    {
      "cell_type": "code",
      "source": [
        "# Check character vocabulary characteristics\n",
        "char_vocab = char_vectorizer.get_vocabulary()\n",
        "print(f\"Number of different characters in character vocab: {len(char_vocab)}\")\n"
      ],
      "metadata": {
        "colab": {
          "base_uri": "https://localhost:8080/"
        },
        "id": "LvcUgE56U95D",
        "outputId": "1621a8e0-10b2-4929-8ee4-33e9367f2e0d"
      },
      "execution_count": null,
      "outputs": [
        {
          "output_type": "stream",
          "name": "stdout",
          "text": [
            "Number of different characters in character vocab: 28\n"
          ]
        }
      ]
    },
    {
      "cell_type": "code",
      "source": [
        "# Create char embedding layer\n",
        "char_embed = layers.Embedding(input_dim = NUM_CHAR_TOKENS, # number of different characters\n",
        "                              output_dim = 28, # embedding dimension of each character (same as Figure 1 in https://arxiv.org/pdf/1612.05251.pdf)\n",
        "                              mask_zero=False, # don't use masks (this messes up model_5 if set to True)\n",
        "                              name=\"char_embed\")"
      ],
      "metadata": {
        "id": "PihFCqebWnCg"
      },
      "execution_count": null,
      "outputs": []
    },
    {
      "cell_type": "code",
      "source": [
        "# Test out character embedding layer\n",
        "sample_text = random.choice(train_chars)\n",
        "print(f\"Charified text (before vectorization and embedding):\\n{sample_text}\\n\")\n",
        "char_embed_example = char_embed(char_vectorizer(sample_text))\n",
        "print(f\"Embedded chars (after vectorization and embedding):\\n{char_embed_example}\\n\")\n",
        "print(f\"Character embedding shape: {char_embed_example.shape}\")\n"
      ],
      "metadata": {
        "colab": {
          "base_uri": "https://localhost:8080/"
        },
        "id": "bHqg5FfLYgkv",
        "outputId": "9737b074-531b-44f0-e62b-32954b463345"
      },
      "execution_count": null,
      "outputs": [
        {
          "output_type": "stream",
          "name": "stdout",
          "text": [
            "Charified text (before vectorization and embedding):\n",
            "i n c i d e n c e   a n d   s e v e r i t y   o f   a d v e r s e   e v e n t s   (   a e s   )   w e r e   r e p o r t e d   .\n",
            "\n",
            "Embedded chars (after vectorization and embedding):\n",
            "[[ 0.0023666   0.03168596 -0.0275244  ...  0.04326541  0.00485951\n",
            "  -0.00983476]\n",
            " [ 0.0199982   0.00296701 -0.02999954 ...  0.01116987  0.01640866\n",
            "  -0.01433099]\n",
            " [-0.03821148  0.02413832 -0.03645932 ... -0.04653449 -0.03774378\n",
            "   0.00088005]\n",
            " ...\n",
            " [ 0.04171406  0.03730826  0.01223714 ... -0.01488291  0.03549669\n",
            "  -0.02475061]\n",
            " [ 0.04171406  0.03730826  0.01223714 ... -0.01488291  0.03549669\n",
            "  -0.02475061]\n",
            " [ 0.04171406  0.03730826  0.01223714 ... -0.01488291  0.03549669\n",
            "  -0.02475061]]\n",
            "\n",
            "Character embedding shape: (287, 28)\n"
          ]
        }
      ]
    },
    {
      "cell_type": "markdown",
      "source": [
        "**Building a Conv1D model to fit on character embeddings**\n"
      ],
      "metadata": {
        "id": "om1oM6-KZNbp"
      }
    },
    {
      "cell_type": "code",
      "source": [
        "# Make Conv1D on chars only\n",
        "inputs = layers.Input(shape=(1,), dtype=\"string\")\n",
        "char_vectors = char_vectorizer(inputs)\n",
        "char_embeddings = char_embed(char_vectors)\n",
        "x =  layers.LSTM(128, return_sequences=True)(char_embeddings)\n",
        "x = layers.Dropout(0.2)(x)\n",
        "x = layers.LSTM(64)(x)\n",
        "\n",
        "\n",
        "\n",
        "outputs = layers.Dense(num_classes, activation=\"softmax\")(x)\n",
        "model_3 = tf.keras.Model(inputs=inputs, outputs=outputs, name=\"model_3_conv1D_char_embedding\")\n",
        "\n",
        "# Compile model\n",
        "model_3.compile(loss=\"categorical_crossentropy\",\n",
        "                optimizer=tf.keras.optimizers.Adam(),\n",
        "                metrics=[\"accuracy\"])\n",
        "model_3.summary()\n"
      ],
      "metadata": {
        "colab": {
          "base_uri": "https://localhost:8080/"
        },
        "id": "lHoJw9XlYmqn",
        "outputId": "4d9a4d9e-877a-4785-d567-36b13a63413a"
      },
      "execution_count": null,
      "outputs": [
        {
          "output_type": "stream",
          "name": "stdout",
          "text": [
            "Model: \"model_3_conv1D_char_embedding\"\n",
            "_________________________________________________________________\n",
            " Layer (type)                Output Shape              Param #   \n",
            "=================================================================\n",
            " input_16 (InputLayer)       [(None, 1)]               0         \n",
            "                                                                 \n",
            " char_vectorizer (TextVecto  (None, 287)               0         \n",
            " rization)                                                       \n",
            "                                                                 \n",
            " char_embed (Embedding)      (None, 287, 28)           1960      \n",
            "                                                                 \n",
            " lstm_1 (LSTM)               (None, 287, 128)          80384     \n",
            "                                                                 \n",
            " dropout (Dropout)           (None, 287, 128)          0         \n",
            "                                                                 \n",
            " lstm_2 (LSTM)               (None, 64)                49408     \n",
            "                                                                 \n",
            " dense_11 (Dense)            (None, 5)                 325       \n",
            "                                                                 \n",
            "=================================================================\n",
            "Total params: 132077 (515.93 KB)\n",
            "Trainable params: 132077 (515.93 KB)\n",
            "Non-trainable params: 0 (0.00 Byte)\n",
            "_________________________________________________________________\n"
          ]
        }
      ]
    },
    {
      "cell_type": "code",
      "source": [
        "# Create char datasets\n",
        "train_char_dataset = tf.data.Dataset.from_tensor_slices((train_chars, train_labels_one_hot)).batch(32).prefetch(tf.data.AUTOTUNE)\n",
        "val_char_dataset = tf.data.Dataset.from_tensor_slices((val_chars, val_labels_one_hot)).batch(32).prefetch(tf.data.AUTOTUNE)\n",
        "\n",
        "train_char_dataset\n"
      ],
      "metadata": {
        "colab": {
          "base_uri": "https://localhost:8080/"
        },
        "id": "SFwFdhMBbHqn",
        "outputId": "46866bd8-78a9-4dd5-b62c-e3816c8bec52"
      },
      "execution_count": null,
      "outputs": [
        {
          "output_type": "execute_result",
          "data": {
            "text/plain": [
              "<_PrefetchDataset element_spec=(TensorSpec(shape=(None,), dtype=tf.string, name=None), TensorSpec(shape=(None, 5), dtype=tf.float64, name=None))>"
            ]
          },
          "metadata": {},
          "execution_count": 114
        }
      ]
    },
    {
      "cell_type": "code",
      "source": [
        "# Fit the model on chars only\n",
        "model_3_history = model_3.fit(train_char_dataset,\n",
        "                              steps_per_epoch=int(0.1 * len(train_char_dataset)),\n",
        "                              epochs=20,\n",
        "                              validation_data=val_char_dataset,\n",
        "                              validation_steps=int(0.1 * len(val_char_dataset)),\n",
        "                              callbacks = [early_stop])"
      ],
      "metadata": {
        "colab": {
          "base_uri": "https://localhost:8080/"
        },
        "id": "fnUzJaHqbYrF",
        "outputId": "0f49d202-5162-480c-967a-d7386ecb9388"
      },
      "execution_count": null,
      "outputs": [
        {
          "output_type": "stream",
          "name": "stdout",
          "text": [
            "Epoch 1/20\n",
            "20/20 [==============================] - 8s 93ms/step - loss: 1.5057 - accuracy: 0.2891 - val_loss: 1.4528 - val_accuracy: 0.3500\n",
            "Epoch 2/20\n",
            "20/20 [==============================] - 1s 36ms/step - loss: 1.4716 - accuracy: 0.3094 - val_loss: 1.4609 - val_accuracy: 0.3359\n",
            "Epoch 3/20\n",
            "20/20 [==============================] - 1s 48ms/step - loss: 1.4407 - accuracy: 0.3234 - val_loss: 1.4389 - val_accuracy: 0.3500\n",
            "Epoch 4/20\n",
            "19/20 [===========================>..] - ETA: 0s - loss: 1.4211 - accuracy: 0.3520Restoring model weights from the end of the best epoch: 1.\n",
            "20/20 [==============================] - 1s 48ms/step - loss: 1.4168 - accuracy: 0.3531 - val_loss: 1.4466 - val_accuracy: 0.3359\n",
            "Epoch 4: early stopping\n"
          ]
        }
      ]
    },
    {
      "cell_type": "markdown",
      "source": [
        "## **Model 4: Combining pretrained token embeddings + character embeddings (hybrid embedding layer)**"
      ],
      "metadata": {
        "id": "rU4KfJPWcjoF"
      }
    },
    {
      "cell_type": "code",
      "source": [
        "# 1. Setup token inputs/model\n",
        "token_inputs = layers.Input(shape=[], dtype=tf.string, name=\"token_input\")\n",
        "token_embeddings = tf_hub_embedding_layer(token_inputs)\n",
        "token_output = layers.Dense(128, activation=\"relu\")(token_embeddings)\n",
        "token_model = tf.keras.Model(inputs=token_inputs, outputs=token_output)\n",
        "\n",
        "\n",
        "# 2. Setup char inputs/model\n",
        "char_inputs = layers.Input(shape=(1,), dtype=tf.string, name=\"char_input\")\n",
        "char_vectors = char_vectorizer(char_inputs)\n",
        "char_embeddings = char_embed(char_vectors)\n",
        "char_bi_lstm = layers.Bidirectional(layers.LSTM(64))(char_embeddings) # bi-LSTM shown in Figure 1 of https://arxiv.org/pdf/1612.05251.pdf\n",
        "\n",
        "char_model = tf.keras.Model(inputs=char_inputs, outputs=char_bi_lstm)\n",
        "\n",
        "\n",
        "# 3. Concatenate token and char inputs (create hybrid token embedding)\n",
        "token_char_concat = layers.Concatenate(name=\"token_char_hybrid\")([token_model.output,\n",
        "                                                                  char_model.output])\n",
        "\n",
        "# 4. Create output layers - addition of dropout discussed in 4.2 of https://arxiv.org/pdf/1612.05251.pdf\n",
        "combined_dropout = layers.Dropout(0.3)(token_char_concat)\n",
        "combined_dense = layers.Dense(200, activation=\"relu\")(combined_dropout) # slightly different to Figure 1 due to different shapes of token/char embedding layers\n",
        "final_dropout = layers.Dropout(0.2)(combined_dense)\n",
        "output_layer = layers.Dense(num_classes, activation=\"softmax\")(final_dropout)\n",
        "\n",
        "# 5. Construct model with char and token inputs\n",
        "model_4 = tf.keras.Model(inputs=[token_model.input, char_model.input],\n",
        "                         outputs=output_layer,\n",
        "                         name=\"model_4_token_and_char_embeddings\")\n",
        "\n",
        "\n",
        "# Get summary of token and character model\n",
        "model_4.summary()\n",
        "\n"
      ],
      "metadata": {
        "colab": {
          "base_uri": "https://localhost:8080/"
        },
        "id": "0Qunx4e_bdHY",
        "outputId": "b01ba28e-2e04-453f-87c7-beda545f3201"
      },
      "execution_count": null,
      "outputs": [
        {
          "output_type": "stream",
          "name": "stdout",
          "text": [
            "Model: \"model_4_token_and_char_embeddings\"\n",
            "__________________________________________________________________________________________________\n",
            " Layer (type)                Output Shape                 Param #   Connected to                  \n",
            "==================================================================================================\n",
            " char_input (InputLayer)     [(None, 1)]                  0         []                            \n",
            "                                                                                                  \n",
            " token_input (InputLayer)    [(None,)]                    0         []                            \n",
            "                                                                                                  \n",
            " char_vectorizer (TextVecto  (None, 287)                  0         ['char_input[0][0]']          \n",
            " rization)                                                                                        \n",
            "                                                                                                  \n",
            " universal_sentence_encoder  (None, 512)                  2567978   ['token_input[0][0]']         \n",
            "  (KerasLayer)                                            24                                      \n",
            "                                                                                                  \n",
            " char_embed (Embedding)      (None, 287, 28)              1960      ['char_vectorizer[6][0]']     \n",
            "                                                                                                  \n",
            " dense_19 (Dense)            (None, 128)                  65664     ['universal_sentence_encoder[7\n",
            "                                                                    ][0]']                        \n",
            "                                                                                                  \n",
            " bidirectional_4 (Bidirecti  (None, 128)                  47616     ['char_embed[6][0]']          \n",
            " onal)                                                                                            \n",
            "                                                                                                  \n",
            " token_char_hybrid (Concate  (None, 256)                  0         ['dense_19[0][0]',            \n",
            " nate)                                                               'bidirectional_4[0][0]']     \n",
            "                                                                                                  \n",
            " dropout_5 (Dropout)         (None, 256)                  0         ['token_char_hybrid[0][0]']   \n",
            "                                                                                                  \n",
            " dense_20 (Dense)            (None, 200)                  51400     ['dropout_5[0][0]']           \n",
            "                                                                                                  \n",
            " dropout_6 (Dropout)         (None, 200)                  0         ['dense_20[0][0]']            \n",
            "                                                                                                  \n",
            " dense_21 (Dense)            (None, 5)                    1005      ['dropout_6[0][0]']           \n",
            "                                                                                                  \n",
            "==================================================================================================\n",
            "Total params: 256965469 (980.25 MB)\n",
            "Trainable params: 167645 (654.86 KB)\n",
            "Non-trainable params: 256797824 (979.61 MB)\n",
            "__________________________________________________________________________________________________\n"
          ]
        }
      ]
    },
    {
      "cell_type": "code",
      "source": [
        "# Plot hybrid token and character model\n",
        "from tensorflow.keras.utils import plot_model\n",
        "plot_model(model_4)\n"
      ],
      "metadata": {
        "colab": {
          "base_uri": "https://localhost:8080/",
          "height": 856
        },
        "id": "qsxrMEkWfcs3",
        "outputId": "748e7f02-06e6-433b-cf03-180d3f53f33e"
      },
      "execution_count": null,
      "outputs": [
        {
          "output_type": "execute_result",
          "data": {
            "image/png": "[encoded data removed]",
            "text/plain": [
              "<IPython.core.display.Image object>"
            ]
          },
          "metadata": {},
          "execution_count": 132
        }
      ]
    },
    {
      "cell_type": "code",
      "source": [
        "\n",
        "# Compile token char model\n",
        "model_4.compile(loss=\"categorical_crossentropy\",\n",
        "                optimizer=tf.keras.optimizers.Adam(), # section 4.2 of https://arxiv.org/pdf/1612.05251.pdf mentions using SGD but we'll stick with Adam\n",
        "                metrics=[\"accuracy\"])\n"
      ],
      "metadata": {
        "id": "cyzECrncfjJ6"
      },
      "execution_count": null,
      "outputs": []
    },
    {
      "cell_type": "code",
      "source": [
        "\n",
        "# Combine chars and tokens into a dataset\n",
        "train_char_token_data = tf.data.Dataset.from_tensor_slices((train_sentences, train_chars)) # make data\n",
        "train_char_token_labels = tf.data.Dataset.from_tensor_slices(train_labels_one_hot) # make labels\n",
        "train_char_token_dataset = tf.data.Dataset.zip((train_char_token_data, train_char_token_labels)) # combine data and labels\n",
        "\n",
        "# Prefetch and batch train data\n",
        "train_char_token_dataset = train_char_token_dataset.batch(32).prefetch(tf.data.AUTOTUNE)\n",
        "\n",
        "# Repeat same steps validation data\n",
        "val_char_token_data = tf.data.Dataset.from_tensor_slices((val_sentences, val_chars))\n",
        "val_char_token_labels = tf.data.Dataset.from_tensor_slices(val_labels_one_hot)\n",
        "val_char_token_dataset = tf.data.Dataset.zip((val_char_token_data, val_char_token_labels))\n",
        "val_char_token_dataset = val_char_token_dataset.batch(32).prefetch(tf.data.AUTOTUNE)"
      ],
      "metadata": {
        "id": "fFPZ0nLSfrSF"
      },
      "execution_count": null,
      "outputs": []
    },
    {
      "cell_type": "code",
      "source": [
        "# Check out training char and token embedding dataset\n",
        "train_char_token_dataset, val_char_token_dataset"
      ],
      "metadata": {
        "colab": {
          "base_uri": "https://localhost:8080/"
        },
        "id": "LhEDjAF2igpd",
        "outputId": "882f4222-32cf-4bb9-cd81-c63c539dc0a4"
      },
      "execution_count": null,
      "outputs": [
        {
          "output_type": "execute_result",
          "data": {
            "text/plain": [
              "(<_PrefetchDataset element_spec=((TensorSpec(shape=(None,), dtype=tf.string, name=None), TensorSpec(shape=(None,), dtype=tf.string, name=None)), TensorSpec(shape=(None, 5), dtype=tf.float64, name=None))>,\n",
              " <_PrefetchDataset element_spec=((TensorSpec(shape=(None,), dtype=tf.string, name=None), TensorSpec(shape=(None,), dtype=tf.string, name=None)), TensorSpec(shape=(None, 5), dtype=tf.float64, name=None))>)"
            ]
          },
          "metadata": {},
          "execution_count": 139
        }
      ]
    },
    {
      "cell_type": "code",
      "source": [
        "# Fit the model on tokens and chars\n",
        "model_4_history = model_4.fit(train_char_token_dataset, # train on dataset of token and characters\n",
        "                              steps_per_epoch=int(0.1 * len(train_char_token_dataset)),\n",
        "                              epochs=30,\n",
        "                              validation_data=val_char_token_dataset,\n",
        "                              validation_steps=int(0.1 * len(val_char_token_dataset)),\n",
        "                              callbacks=[early_stop])\n"
      ],
      "metadata": {
        "colab": {
          "base_uri": "https://localhost:8080/"
        },
        "id": "c5OC9uAbinln",
        "outputId": "d110834e-f07e-4a27-8315-a2c5a51992ed"
      },
      "execution_count": null,
      "outputs": [
        {
          "output_type": "stream",
          "name": "stdout",
          "text": [
            "Epoch 1/30\n",
            "20/20 [==============================] - 13s 243ms/step - loss: 1.4401 - accuracy: 0.3828 - val_loss: 1.3601 - val_accuracy: 0.4688\n",
            "Epoch 2/30\n",
            "20/20 [==============================] - 3s 145ms/step - loss: 1.3272 - accuracy: 0.4641 - val_loss: 1.1978 - val_accuracy: 0.5297\n",
            "Epoch 3/30\n",
            "20/20 [==============================] - 2s 109ms/step - loss: 1.1024 - accuracy: 0.5625 - val_loss: 1.0005 - val_accuracy: 0.6016\n",
            "Epoch 4/30\n",
            "20/20 [==============================] - 2s 121ms/step - loss: 0.9373 - accuracy: 0.6406 - val_loss: 0.8867 - val_accuracy: 0.6531\n",
            "Epoch 5/30\n",
            "20/20 [==============================] - 2s 106ms/step - loss: 0.9179 - accuracy: 0.6344 - val_loss: 0.8473 - val_accuracy: 0.7016\n",
            "Epoch 6/30\n",
            "20/20 [==============================] - 1s 47ms/step - loss: 0.8272 - accuracy: 0.6781 - val_loss: 0.7965 - val_accuracy: 0.7000\n",
            "Epoch 7/30\n",
            "20/20 [==============================] - 2s 129ms/step - loss: 0.7861 - accuracy: 0.6797 - val_loss: 0.7734 - val_accuracy: 0.7047\n",
            "Epoch 8/30\n",
            "20/20 [==============================] - 2s 85ms/step - loss: 0.8273 - accuracy: 0.6812 - val_loss: 0.7880 - val_accuracy: 0.7000\n",
            "Epoch 9/30\n",
            "20/20 [==============================] - 2s 105ms/step - loss: 0.8914 - accuracy: 0.6656 - val_loss: 0.7699 - val_accuracy: 0.7141\n",
            "Epoch 10/30\n",
            "20/20 [==============================] - 1s 62ms/step - loss: 0.8406 - accuracy: 0.6875 - val_loss: 0.7624 - val_accuracy: 0.7063\n",
            "Epoch 11/30\n",
            " 5/20 [======>.......................] - ETA: 0s - loss: 0.8174 - accuracy: 0.7125"
          ]
        },
        {
          "output_type": "stream",
          "name": "stderr",
          "text": [
            "WARNING:tensorflow:Your input ran out of data; interrupting training. Make sure that your dataset or generator can generate at least `steps_per_epoch * epochs` batches (in this case, 600 batches). You may need to use the repeat() function when building your dataset.\n"
          ]
        },
        {
          "output_type": "stream",
          "name": "stdout",
          "text": [
            "\b\b\b\b\b\b\b\b\b\b\b\b\b\b\b\b\b\b\b\b\b\b\b\b\b\b\b\b\b\b\b\b\b\b\b\b\b\b\b\b\b\b\b\b\b\b\b\b\b\b\b\b\b\b\b\b\b\b\b\b\b\b\b\b\b\b\b\b\b\b\b\b\b\b\b\b\b\b\b\b\b\b\r20/20 [==============================] - 2s 103ms/step - loss: 0.8121 - accuracy: 0.7222 - val_loss: 0.7472 - val_accuracy: 0.7219\n"
          ]
        }
      ]
    },
    {
      "cell_type": "markdown",
      "source": [
        "**Model 5: Transfer Learning with pretrained token embeddings + character embeddings + positional embeddings**"
      ],
      "metadata": {
        "id": "zcNwlAg5lpw1"
      }
    },
    {
      "cell_type": "code",
      "source": [
        "# Make predictions using the token-character model hybrid\n",
        "model_4_pred_probs = model_4.predict(val_char_token_dataset)\n",
        "model_4_pred_probs"
      ],
      "metadata": {
        "colab": {
          "base_uri": "https://localhost:8080/"
        },
        "id": "TGLWZXG0ixU2",
        "outputId": "32f923cf-f6f3-4f40-bfde-b34d7584d4c7"
      },
      "execution_count": null,
      "outputs": [
        {
          "output_type": "stream",
          "name": "stdout",
          "text": [
            "205/205 [==============================] - 10s 39ms/step\n"
          ]
        },
        {
          "output_type": "execute_result",
          "data": {
            "text/plain": [
              "array([[0.11145966, 0.18440787, 0.55202216, 0.0367606 , 0.11534975],\n",
              "       [0.02687646, 0.03015383, 0.80326223, 0.02683708, 0.11287044],\n",
              "       [0.00387866, 0.03058546, 0.15135807, 0.0008291 , 0.8133487 ],\n",
              "       ...,\n",
              "       [0.11835781, 0.18136412, 0.35097626, 0.1974243 , 0.15187751],\n",
              "       [0.01025469, 0.01926782, 0.73383623, 0.01098277, 0.2256585 ],\n",
              "       [0.00611552, 0.01467473, 0.55149025, 0.00408933, 0.42363015]],\n",
              "      dtype=float32)"
            ]
          },
          "metadata": {},
          "execution_count": 141
        }
      ]
    },
    {
      "cell_type": "code",
      "source": [
        "# Evaluate on the whole validation dataset\n",
        "model_4.evaluate(val_char_token_dataset)"
      ],
      "metadata": {
        "colab": {
          "base_uri": "https://localhost:8080/"
        },
        "id": "gnfw3BOwmbYZ",
        "outputId": "d66873f1-e58d-41d1-b3ae-fa155e53f75c"
      },
      "execution_count": null,
      "outputs": [
        {
          "output_type": "stream",
          "name": "stdout",
          "text": [
            "205/205 [==============================] - 7s 36ms/step - loss: 0.7636 - accuracy: 0.7067\n"
          ]
        },
        {
          "output_type": "execute_result",
          "data": {
            "text/plain": [
              "[0.7636170387268066, 0.7067013382911682]"
            ]
          },
          "metadata": {},
          "execution_count": 142
        }
      ]
    },
    {
      "cell_type": "code",
      "source": [
        "# Turn prediction probabilities into prediction classes\n",
        "model_4_preds = tf.argmax(model_4_pred_probs, axis=1)\n",
        "model_4_preds"
      ],
      "metadata": {
        "colab": {
          "base_uri": "https://localhost:8080/"
        },
        "id": "fuBEiFZ_mdY0",
        "outputId": "33f1ef45-735f-4fef-ca3b-19756b7ccf10"
      },
      "execution_count": null,
      "outputs": [
        {
          "output_type": "execute_result",
          "data": {
            "text/plain": [
              "<tf.Tensor: shape=(6536,), dtype=int64, numpy=array([2, 2, 4, ..., 2, 2, 2])>"
            ]
          },
          "metadata": {},
          "execution_count": 143
        }
      ]
    },
    {
      "cell_type": "code",
      "source": [
        "# Get results of token-char-hybrid model\n",
        "model_4_results = calculate_results(y_true=val_labels_encoded,\n",
        "                                    y_pred=model_4_preds)\n",
        "model_4_results"
      ],
      "metadata": {
        "colab": {
          "base_uri": "https://localhost:8080/"
        },
        "id": "BvhdgX7lmn3u",
        "outputId": "948c208e-9ebd-4cc7-d937-8aa37127969c"
      },
      "execution_count": null,
      "outputs": [
        {
          "output_type": "execute_result",
          "data": {
            "text/plain": [
              "{'accuracy': 70.67013463892289,\n",
              " 'precision': 0.7004037969154118,\n",
              " 'recall': 0.7067013463892289,\n",
              " 'f1': 0.6834473463583138}"
            ]
          },
          "metadata": {},
          "execution_count": 144
        }
      ]
    },
    {
      "cell_type": "code",
      "source": [],
      "metadata": {
        "id": "ERmfVpKMmr5k"
      },
      "execution_count": null,
      "outputs": []
    }
  ]
}